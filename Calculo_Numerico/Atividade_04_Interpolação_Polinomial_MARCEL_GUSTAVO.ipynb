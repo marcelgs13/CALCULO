{
  "nbformat": 4,
  "nbformat_minor": 0,
  "metadata": {
    "colab": {
      "provenance": []
    },
    "kernelspec": {
      "name": "python3",
      "display_name": "Python 3"
    },
    "language_info": {
      "name": "python"
    }
  },
  "cells": [
    {
      "cell_type": "code",
      "execution_count": null,
      "metadata": {
        "colab": {
          "base_uri": "https://localhost:8080/"
        },
        "id": "kIBl6nHUjQN9",
        "outputId": "eafb7de6-4102-4a71-9f78-06eed32d805a"
      },
      "outputs": [
        {
          "output_type": "stream",
          "name": "stdout",
          "text": [
            "--- Resolução da Parte 1 ---\n",
            "O calor específico da água a 37.5°C é: 0.9982119\n",
            "O valor do polinômio p(x) em x = 32.5°C é: 0.9981931\n",
            "\n",
            "O polinômio interpolador p(x) encontrado (usando np.polyfit para os coeficientes) é:\n",
            "            3            2\n",
            "-9.333e-08 x + 1.34e-05 x - 0.0005907 x + 1.006\n",
            "Verificando p(32.5) com o polinômio do numpy: 0.9981931\n",
            "Verificando p(37.5) com o polinômio do numpy: 0.9982119\n",
            "\n",
            "--- Resolução da Parte 2 ---\n",
            "Valores de p(T) - 0.99837 nos pontos da tabela:\n",
            "f(30) = 0.9982600 - 0.99837 = -0.0001100\n",
            "f(35) = 0.9981800 - 0.99837 = -0.0001900\n",
            "f(40) = 0.9982800 - 0.99837 = -0.0000900\n",
            "f(45) = 0.9984900 - 0.99837 = 0.0001200\n",
            "f(40.0) = -0.0000900\n",
            "f(45.0) = 0.0001200\n",
            "\n",
            "A temperatura para a qual o calor específico é 0.99837 é aproximadamente: 42.367280°C\n",
            "Verificação: p(42.367280) = 0.9983700\n"
          ]
        }
      ],
      "source": [
        "# Aluno: Marcel Gustavo de Barros Araujo\n",
        "# Disciplina: Cálculo Numérico\n",
        "# Professor: Marcos Maia\n",
        "import numpy as np\n",
        "\n",
        "temperaturas = np.array([30, 35, 40, 45])\n",
        "calores_especificos = np.array([0.99826, 0.99818, 0.99828, 0.99849]) # [cite: 2]\n",
        "\n",
        "def L(k, x, x_pontos):\n",
        "    termo_total = 1.0\n",
        "    for i in range(len(x_pontos)):\n",
        "        if i != k:\n",
        "            termo_total *= (x - x_pontos[i]) / (x_pontos[k] - x_pontos[i])\n",
        "    return termo_total\n",
        "\n",
        "def polinomio_interpolador(x, x_pontos, y_pontos):\n",
        "    valor_p = 0.0\n",
        "    for k_idx in range(len(x_pontos)):\n",
        "        valor_p += y_pontos[k_idx] * L(k_idx, x, x_pontos)\n",
        "    return valor_p\n",
        "\n",
        "temp_interesse1 = 37.5\n",
        "calor_especifico_37_5 = polinomio_interpolador(temp_interesse1, temperaturas, calores_especificos)\n",
        "print(f\"--- Resolução da Parte 1 ---\")\n",
        "print(f\"O calor específico da água a {temp_interesse1}°C é: {calor_especifico_37_5:.7f}\") # [cite: 3]\n",
        "\n",
        "temp_interesse_p32_5 = 32.5\n",
        "valor_p_32_5 = polinomio_interpolador(temp_interesse_p32_5, temperaturas, calores_especificos)\n",
        "print(f\"O valor do polinômio p(x) em x = {temp_interesse_p32_5}°C é: {valor_p_32_5:.7f}\\n\") # [cite: 3]\n",
        "\n",
        "coeficientes_p = np.polyfit(temperaturas, calores_especificos, 3)\n",
        "p_numpy = np.poly1d(coeficientes_p)\n",
        "\n",
        "print(f\"O polinômio interpolador p(x) encontrado (usando np.polyfit para os coeficientes) é:\")\n",
        "print(p_numpy)\n",
        "print(f\"Verificando p(32.5) com o polinômio do numpy: {p_numpy(32.5):.7f}\")\n",
        "print(f\"Verificando p(37.5) com o polinômio do numpy: {p_numpy(37.5):.7f}\\n\")\n",
        "\n",
        "calor_alvo = 0.99837 # [cite: 4]\n",
        "\n",
        "def f_para_raiz(temp, x_pontos, y_pontos, alvo):\n",
        "    return polinomio_interpolador(temp, x_pontos, y_pontos) - alvo\n",
        "\n",
        "def bisseccao(func, a, b, tol, max_iter, x_pts, y_pts, alvo_val): # [cite: 5]\n",
        "    if func(a, x_pts, y_pts, alvo_val) * func(b, x_pts, y_pts, alvo_val) >= 0:\n",
        "        print(\"Método da bissecção falhou: f(a) e f(b) devem ter sinais opostos.\")\n",
        "        return None\n",
        "\n",
        "    iteracao = 0\n",
        "    while (b - a) / 2.0 > tol and iteracao < max_iter: # [cite: 5]\n",
        "        c = (a + b) / 2.0\n",
        "        if func(c, x_pts, y_pts, alvo_val) == 0.0:\n",
        "            return c\n",
        "        elif func(c, x_pts, y_pts, alvo_val) * func(a, x_pts, y_pts, alvo_val) < 0:\n",
        "            b = c\n",
        "        else:\n",
        "            a = c\n",
        "        iteracao += 1\n",
        "\n",
        "    if iteracao == max_iter:\n",
        "        print(\"Método da bissecção atingiu o número máximo de iterações.\")\n",
        "\n",
        "    return (a + b) / 2.0\n",
        "\n",
        "print(f\"--- Resolução da Parte 2 ---\")\n",
        "print(f\"Valores de p(T) - {calor_alvo} nos pontos da tabela:\")\n",
        "for t in temperaturas:\n",
        "    valor_f = f_para_raiz(t, temperaturas, calores_especificos, calor_alvo)\n",
        "    print(f\"f({t}) = {polinomio_interpolador(t, temperaturas, calores_especificos):.7f} - {calor_alvo} = {valor_f:.7f}\")\n",
        "\n",
        "intervalo_a = 40.0\n",
        "intervalo_b = 45.0\n",
        "tolerancia = 1e-6 # [cite: 5]\n",
        "max_iteracoes = 100\n",
        "\n",
        "val_a = f_para_raiz(intervalo_a, temperaturas, calores_especificos, calor_alvo)\n",
        "val_b = f_para_raiz(intervalo_b, temperaturas, calores_especificos, calor_alvo)\n",
        "print(f\"f({intervalo_a}) = {val_a:.7f}\")\n",
        "print(f\"f({intervalo_b}) = {val_b:.7f}\")\n",
        "\n",
        "if val_a * val_b < 0:\n",
        "    temperatura_raiz = bisseccao(f_para_raiz, intervalo_a, intervalo_b, tolerancia, max_iteracoes,\n",
        "                                 temperaturas, calores_especificos, calor_alvo)\n",
        "    if temperatura_raiz is not None:\n",
        "        print(f\"\\nA temperatura para a qual o calor específico é {calor_alvo} é aproximadamente: {temperatura_raiz:.6f}°C\") # [cite: 4]\n",
        "        print(f\"Verificação: p({temperatura_raiz:.6f}) = {polinomio_interpolador(temperatura_raiz, temperaturas, calores_especificos):.7f}\")\n",
        "else:\n",
        "    print(f\"\\nNão foi possível encontrar um intervalo adequado para a bissecção com [a={intervalo_a}, b={intervalo_b}].\")\n",
        "    print(\"Verificando outros intervalos possíveis ou se há um erro.\")"
      ]
    },
    {
      "cell_type": "markdown",
      "source": [
        "---\n",
        "## Explicação da Atividade: Interpolação Polinomial\n",
        "Primeiramente, o código define os **dados da tabela** fornecida: as **temperaturas** em graus Celsius e os correspondentes valores de **calor específico** são armazenados em arrays NumPy chamados `temperaturas` e `calores_especificos`.\n",
        "\n",
        "Na **Parte 1**, o objetivo é encontrar o **calor específico da água a $37.5^{\\circ}C$** e calcular o valor de $p(32.5)$, onde $p(x)$ é um **polinômio interpolador de grau três**. Para isso, o código utiliza a **interpolação de Lagrange**. A função `L(k, x, x_pontos)` calcula o $k$-ésimo **polinômio de base de Lagrange**, $L_k(x)$, usando a fórmula $L_k(x) = \\prod_{i=0, i \\neq k}^{n} \\frac{x - x_i}{x_k - x_i}$. Em seguida, a função `polinomio_interpolador(x, x_pontos, y_pontos)` calcula o valor do **polinômio interpolador $p(x)$** em um ponto $x$ através da soma $p(x) = \\sum_{k=0}^{n} y_k L_k(x)$. Assim, para obter o **calor específico a $37.5^{\\circ}C$**, o programa chama `polinomio_interpolador(37.5, temperaturas, calores_especificos)`. De maneira análoga, $p(32.5)$ é calculado com `polinomio_interpolador(32.5, temperaturas, calores_especificos)`. Para fins de verificação e para visualizar os coeficientes do polinômio, a função `numpy.polyfit(temperaturas, calores_especificos, 3)` é empregada, o que ajuda a determinar os coeficientes $a, b, c, d$ do **polinômio cúbico** $p(x) = ax^3 + bx^2 + cx + d$.\n",
        "\n",
        "Na **Parte 2**, a tarefa é determinar a **temperatura $T$ na qual o calor específico é $0.99837$**. Isso é resolvido encontrando a raiz da equação $p(x) = 0.99837$, utilizando o **método da bissecção** com um **erro menor que $10^{-6}$**, e aplicando ao polinômio obtido no item anterior. A função `f_para_raiz(temp, x_pontos, y_pontos, alvo)` é definida como $f(T) = p(T) - \\text{alvo}$, onde `alvo` é $0.99837$. A função `bisseccao(func, a, b, tol, max_iter, ...)` implementa o **método da bissecção**. Os parâmetros cruciais são a função `func`, o intervalo inicial `[a, b]`, a **tolerância `tol` (definida como $10^{-6}$)**, e `max_iter`. O método funciona dividindo o intervalo ao meio repetidamente, mantendo a raiz sempre dentro do intervalo, até que a precisão desejada seja alcançada. Para aplicar o método da bissecção, é necessário um intervalo inicial `[a, b]` onde $f(a)$ e $f(b)$ tenham sinais opostos. Ao avaliar $f(T) = p(T) - 0.99837$ nos pontos da tabela original (ou seja, $T \\in \\{30, 35, 40, 45\\}$), observa-se que $f(40)$ e $f(45)$ possuem sinais contrários. Portanto, o intervalo **$[40, 45]$** é um bom ponto de partida. A função `bisseccao` é então chamada com este intervalo.\n",
        "\n",
        "Ao final, o código imprimirá: o **calor específico calculado para $37.5^{\\circ}C$**, o valor de **$p(32.5)$**, os coeficientes do **polinômio $p(x)$ de grau três**, e a **temperatura $T$ para a qual $p(T) \\approx 0.99837$**, encontrada com a precisão especificada, juntamente com uma verificação do valor de $p(T)$ na raiz encontrada.\n",
        "\n",
        "---"
      ],
      "metadata": {
        "id": "QoM8naxAuBgk"
      }
    }
  ]
}