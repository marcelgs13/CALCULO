{
  "nbformat": 4,
  "nbformat_minor": 0,
  "metadata": {
    "colab": {
      "provenance": []
    },
    "kernelspec": {
      "name": "python3",
      "display_name": "Python 3"
    },
    "language_info": {
      "name": "python"
    }
  },
  "cells": [
    {
      "cell_type": "markdown",
      "source": [
        "# Atividade 02 - Zeros de Funções Reais"
      ],
      "metadata": {
        "id": "ZYw--78IRibr"
      }
    },
    {
      "cell_type": "markdown",
      "source": [
        "Nome completo: Marcel Gustavo de Barros Araujo\n",
        "\n",
        "Data: 23/04/2025"
      ],
      "metadata": {
        "id": "hhKYRVMpRwbL"
      }
    },
    {
      "cell_type": "markdown",
      "source": [
        "# Introdução\n",
        "\n",
        "O presente trabalho apresenta o relatório da implementação computacional de diferentes técnicas numéricas estudadas na disciplina de Cálculo Numérico, lecionada às turmas de engenharia da Unidade Acadêmica de Belo Jardim. Utiliza-se a linguagem Python para a implementação dos algoritmos e considera-se a função\n",
        "\n",
        "$$ f(x) = x^2 - x \\ln\\left(\\frac{1}{x}\\right) $$"
      ],
      "metadata": {
        "id": "-DjK2WYoSDuO"
      }
    },
    {
      "cell_type": "code",
      "source": [
        "import math as m\n",
        "import numpy as np\n",
        "\n",
        "# defina aqui a sua função\n",
        "def f(x):\n",
        "  return x**2 - x * np.log(1/x)"
      ],
      "metadata": {
        "id": "C9DJnq1qUzk2"
      },
      "execution_count": null,
      "outputs": []
    },
    {
      "cell_type": "markdown",
      "source": [
        "# Estudo do sinal da função\n",
        "\n",
        "A função $f(x) = x^2 - x \\ln\\left(\\frac{1}{x}\\right)$ possui pelo menos um zero no intervalo $(a,b)$, considerando o intervalo de $(0.2,1)$ uma vez que $f(a) = −0.2818 $, $f(b) = 1$, de modo que a função troca de sinal no intervalo considerado.\n",
        "\n",
        "Calculando-se a derivada da função obtem-se\n",
        "\n",
        "$$f'(x) = 2x + \\ln(x) + 1$$\n",
        "\n",
        "Verifica-se que $f'(x)>0 \\, (ou <0)$ para todo $x\\in(a,b)$. Portanto, como a derivada não troca de sinal em $(a,b)$, existe um único zero para $f(x)$ neste intervalo.\n",
        "\n",
        "O intervalo $(a,b)$ será utilizada para todos os métodos numéricos a serem implementados, a fim de comparação de eficiência entre os métodos.\n",
        "\n"
      ],
      "metadata": {
        "id": "82v7U0DaTurj"
      }
    },
    {
      "cell_type": "code",
      "source": [
        "#Plote o gráfico da função caso ache conveniente para a análise do sinal da função.\n",
        "import matplotlib.pyplot as plt\n",
        "import numpy as np\n",
        "\n",
        "x = np.linspace(0.001, 1, 100)\n",
        "y = f(x)\n",
        "plt.plot(x,y)\n",
        "plt.show()"
      ],
      "metadata": {
        "id": "wNmKxwgdY8kg",
        "colab": {
          "base_uri": "https://localhost:8080/",
          "height": 430
        },
        "outputId": "9e056535-2b8c-4b1f-dc76-9bcc2646fb53"
      },
      "execution_count": null,
      "outputs": [
        {
          "output_type": "display_data",
          "data": {
            "text/plain": [
              "<Figure size 640x480 with 1 Axes>"
            ],
            "image/png": "[encoded data removed]"
          },
          "metadata": {}
        }
      ]
    },
    {
      "cell_type": "code",
      "source": [
        "# defina o intervalo\n",
        "a0 = 0.2\n",
        "b0 = 1"
      ],
      "metadata": {
        "id": "CguI5wM7Te7W"
      },
      "execution_count": null,
      "outputs": []
    },
    {
      "cell_type": "markdown",
      "source": [
        "Para todos os os métodos a serem implementados e comparados, será considerada a precisão $ɛ=0.00009$ de quatro casas decimais, como segue:"
      ],
      "metadata": {
        "id": "Inc5m4uLgdK-"
      }
    },
    {
      "cell_type": "code",
      "source": [
        "# precisão\n",
        "e = 0.00009"
      ],
      "metadata": {
        "id": "guVOKg3hgorm"
      },
      "execution_count": null,
      "outputs": []
    },
    {
      "cell_type": "markdown",
      "source": [
        "# Método da Bissecção\n",
        "\n",
        "\"\"\"\n",
        "O método da bissecção é utilizado para encontrar raízes de uma função contínua em um intervalo [a, b] onde a função troca de sinal (f(a) e f(b) têm sinais opostos).\n",
        "O algoritmo segue os passos:\n",
        "1. Calcula o ponto médio M = (a + b)/2.\n",
        "2. Verifica em qual subintervalo ([a, M] ou [M, b]) a função muda de sinal.\n",
        "3. Atualiza o intervalo substituindo a ou b por M, mantendo a raiz dentro do novo intervalo.\n",
        "4. Repete os passos até que a largura do intervalo (b - a) seja menor que a precisão ε desejada.\n",
        "5. Retorna o ponto médio final como aproximação da raiz e o número de iterações realizadas.\n",
        "\n",
        "\"\"\""
      ],
      "metadata": {
        "id": "-XsYaI-ef7ec"
      }
    },
    {
      "cell_type": "code",
      "source": [
        "# Implemente aqui o algoritmo do método da bissecção usando a sua função, o intervalo (a,b) e a precisão considera.\n",
        "# Obtenha sempre o número de iterações necessárias à convergência a fim de comparação entre os métodos.\n",
        "\n",
        "#k contabiliza as iterações\n",
        "a = a0\n",
        "b = b0\n",
        "k = 0\n",
        "while b-a>e:\n",
        "  M=(a+b)/2\n",
        "\n",
        "  if f(a)*f(M) < 0:\n",
        "    b=M\n",
        "  else:\n",
        "    a=M\n",
        "  k=k+1\n",
        "\n",
        "print('A solução encontrada foi', M)\n",
        "print('O número de iterações foi', k)"
      ],
      "metadata": {
        "id": "b5eHsWRggKzX",
        "colab": {
          "base_uri": "https://localhost:8080/"
        },
        "outputId": "ce4ae573-3a83-412d-ef42-bd6418fcb6ed"
      },
      "execution_count": null,
      "outputs": [
        {
          "output_type": "stream",
          "name": "stdout",
          "text": [
            "A solução encontrada foi 0.567138671875\n",
            "O número de iterações foi 14\n"
          ]
        }
      ]
    },
    {
      "cell_type": "markdown",
      "source": [
        "# Método da Posição Falsa\n",
        "\n",
        "\"\"\"\n",
        "Descrição do Método:\n",
        "O método da posição falsa (ou regula falsi) é um algoritmo numérico para encontrar raízes de uma função contínua em um intervalo [a, b] onde a função troca de sinal (f(a) * f(b) < 0).\n",
        "Diferentemente da bissecção, que usa o ponto médio, este método calcula uma média ponderada entre a e b, aproximando-se mais rapidamente da raiz.\n",
        "A cada iteração, o novo ponto M é calculado pela interseção da reta que liga (a, f(a)) e (b, f(b)) com o eixo x.\n",
        "O processo se repete até que |f(M)| < ε ou o intervalo seja suficientemente pequeno.\n",
        "\"\"\""
      ],
      "metadata": {
        "id": "x_AEpJoxhTMo"
      }
    },
    {
      "cell_type": "code",
      "source": [
        "# Implemente aqui o algoritmo do método da posição usando a sua função, o intervalo (a,b) incial e a precisão considera.\n",
        "# Obtenha sempre o número de iterações necessárias à convergência a fim de comparação entre os métodos.\n",
        "a = a0\n",
        "b = b0\n",
        "it_max = 100\n",
        "for k in range(1, it_max+1):\n",
        "  M =((a*f(b)-b*f(a))/(f(b)-f(a))) #Média ponderada\n",
        "\n",
        "  if f(a)*f(M)<0:\n",
        "    b= M\n",
        "  else:\n",
        "    a=M\n",
        "\n",
        "    #Crítério de Parada\n",
        "  if abs(f(M))<e:\n",
        "    break\n",
        "\n",
        "print('A solução encontrada foi', M)\n",
        "print('O número de iterações foi', k)"
      ],
      "metadata": {
        "id": "BJzuvZ0Shiwr",
        "colab": {
          "base_uri": "https://localhost:8080/"
        },
        "outputId": "e766dd8a-75e6-4bd2-f85d-25fdbb8b6e0a"
      },
      "execution_count": null,
      "outputs": [
        {
          "output_type": "stream",
          "name": "stdout",
          "text": [
            "A solução encontrada foi 0.567112914248785\n",
            "O número de iterações foi 9\n"
          ]
        }
      ]
    },
    {
      "cell_type": "markdown",
      "source": [
        "# Método do Ponto Fixo  \n",
        "\n",
        "O método do ponto fixo consiste em obter uma função de iteração $\\phi(x)$ a partir da equação $f(x) = 0$.  \n",
        "\n",
        "Supondo que a função de iteração é convergente, usa-se uma condição inicial $x_0\\in(a,b)$ e executa a rotina  \n",
        "$$x_{k+1} = \\phi(x_k)$$ até que $|f(x_k)|<ɛ$ onde $ɛ$ é a precisão indicada.  \n",
        "\n",
        "Para verificar se a função de iteração é convergente, resolvemos a inequação modular  \n",
        "$$ |\\phi'(x)| < 1$$  \n",
        "e verificamos a intersecção do intervalo obtido nesta inequação com o intervalo inicial $(a,b)$. A condição inicial $x_0$ deve estar nesta intersecção.  \n",
        "\n",
        "Para a função dada $f(x) = x^2 - x \\ln\\left(\\frac{1}{x}\\right)$, obtemos a função de iteração:  \n",
        "\n",
        "### **1. Primeira Função de Iteração**  \n",
        "$$  \n",
        "\\phi(x) = -\\ln(x)  \n",
        "$$  \n",
        "A inequação modular $|\\phi'(x)| < 1$ produz:  \n",
        "$$  \n",
        "\\left|-\\frac{1}{x}\\right| < 1 \\implies x > 1  \n",
        "$$  \n",
        "que resulta no intervalo:  \n",
        "$$  \n",
        "(1, \\infty)  \n",
        "$$  \n",
        "Portanto, a função de iteração **não é convergente** pois o intervalo obtido não intersecta $(0.2,1)$.  \n",
        "\n",
        "---\n",
        "\n",
        "### **2. Segunda Função de Iteração**  \n",
        "$$  \n",
        "\\phi(x) = e^{-x}  \n",
        "$$  \n",
        "A inequação modular $|\\phi'(x)| < 1$ produz:  \n",
        "$$  \n",
        "\\left|-e^{-x}\\right| < 1 \\implies e^{-x} < 1 \\implies x > 0  \n",
        "$$  \n",
        "que resulta no intervalo:  \n",
        "$$  \n",
        "(0, \\infty)  \n",
        "$$  \n",
        "Portanto, a função de iteração **é convergente** pois todo o intervalo $(0.2,1)$ está contido em $(0, \\infty)$.  \n",
        "\n",
        "---\n",
        "\n",
        "### **3. Terceira Função de Iteração**  \n",
        "$$  \n",
        "\\phi(x) = \\sqrt{-x \\ln(x)}  \n",
        "$$  \n",
        "A inequação modular $|\\phi'(x)| < 1$ produz:  \n",
        "$$  \n",
        "\\left|\\frac{-\\ln(x) - 1}{2\\sqrt{-x \\ln(x)}}\\right| < 1  \n",
        "$$  \n",
        "que resulta no intervalo aproximado:  \n",
        "$$  \n",
        "x \\in (0.2, 0.823)  \n",
        "$$  \n",
        "Portanto, a função de iteração **é convergente parcialmente** pois apenas o subintervalo $(0.2,0.823)$ satisfaz a condição.  \n",
        "\n",
        "---\n",
        "\n",
        "### **Resumo Final**  \n",
        "- **Função 1 ($-\\ln(x)$):**  Não converge.  \n",
        "- **Função 2 ($e^{-x}$):** Convergente em todo $(0.2,1)$.  \n",
        "- **Função 3 ($\\sqrt{-x \\ln(x)}$):** Convergente apenas em $(0.2,0.823)$.  \n",
        "\n",
        "**Observação encontrada:** Usando esse $\\boxed{\\phi(x) = e^{-x}}$ garante convergência no intervalo completo pois o Domínio dessa função é maior. Por isso abaixo no algoritmo utilizei essa função como base.  "
      ],
      "metadata": {
        "id": "KrwCMIsFhn7Y"
      }
    },
    {
      "cell_type": "code",
      "source": [
        "# Implemente aqui o algoritmo do método do ponto fixo usando a sua função,\n",
        "# tomando uma condição inicial no intervalo (a,b) inicial, use a média do intervalo, e a precisão considera.\n",
        "# Obtenha sempre o número de iterações necessárias à convergência a fim de comparação entre os métodos.\n",
        "import numpy as np\n",
        "a = a0\n",
        "b = b0\n",
        "#Para esse Código utilizei a segunda função de Interação\n",
        "def phi(x):\n",
        "  return np.exp(-x)\n",
        "\n",
        "\n",
        "x0 = (a+b)/2\n",
        "x_k = x0\n",
        "\n",
        "it_max_ponto_fixo = 100\n",
        "\n",
        "for k in range(1, it_max_ponto_fixo):\n",
        "  print(x_k)\n",
        "  x_k = phi(x_k)\n",
        "\n",
        "\n",
        "  if abs(f(x_k))< e:\n",
        "    break\n",
        "\n",
        "print('A solução encontrada foi', x_k)\n",
        "print('O número de iterações foi', k)\n"
      ],
      "metadata": {
        "id": "PdXlM16x9jDw",
        "colab": {
          "base_uri": "https://localhost:8080/"
        },
        "outputId": "29213dc9-95b6-4d85-f629-be29f0a12f08"
      },
      "execution_count": null,
      "outputs": [
        {
          "output_type": "stream",
          "name": "stdout",
          "text": [
            "0.6\n",
            "0.5488116360940264\n",
            "0.5776358442589157\n",
            "0.5612236194379727\n",
            "0.5705105487806048\n",
            "0.565236784068813\n",
            "0.5682255840612201\n",
            "0.5665298068716721\n",
            "0.5674913302296352\n",
            "0.5669459363066952\n",
            "0.5672552295106426\n",
            "0.5670798084529203\n",
            "A solução encontrada foi 0.5671792949184874\n",
            "O número de iterações foi 12\n"
          ]
        }
      ]
    },
    {
      "cell_type": "markdown",
      "source": [
        "# Método de Newton\n",
        "\n",
        "O método de Newton é um caso especial do método do ponto fixo que consiste em usar a função de iteração  \n",
        "$$\n",
        "\\phi(x_k) = x_k - \\dfrac{f(x_k)}{f'(x_k)}\n",
        "$$  \n",
        "Este método é convergente se $f'(x) \\neq 0$ e $f''(x)$ existir e for contínua em $(a,b)$. Verificando, observamos que:  \n",
        "\n",
        "### **Derivadas da Função**  \n",
        "Para $f(x) = x^2 - x \\ln\\left(\\frac{1}{x}\\right)$ (equivalente a $f(x) = x^2 + x \\ln(x)$):  \n",
        "\n",
        "1. **Primeira Derivada:**  \n",
        "   $$\n",
        "   f'(x) = 2x + \\ln(x) + 1\n",
        "   $$  \n",
        "\n",
        "2. **Segunda Derivada:**  \n",
        "   $$\n",
        "   f''(x) = 2 + \\frac{1}{x}\n",
        "   $$  \n",
        "\n",
        "---\n",
        "\n",
        "### **Verificação das Condições de Convergência**  \n",
        "1. **Continuidade de $f''(x)$:**  \n",
        "   $f''(x) = 2 + \\frac{1}{x}$ é contínua em $(0.2, 1)$, pois $\\frac{1}{x}$ é contínua para $x > 0$.  \n",
        "\n",
        "2. **$f'(x) \\neq 0$ no intervalo $(0.2, 1)$:**  \n",
        "   - Para $x \\in (0.2, 1)$:  \n",
        "     - $f'(0.2) \\approx -0.209$ (negativo),  \n",
        "     - $f'(1) = 3$ (positivo).  \n",
        "   - Como $f'(x)$ é estritamente crescente (pois $f''(x) > 0$), existe **um único ponto crítico** $c \\in (0.2, 1)$ onde $f'(c) = 0$.  \n",
        "    \n",
        "\n",
        "---"
      ],
      "metadata": {
        "id": "HOweQGK5U6GD"
      }
    },
    {
      "cell_type": "code",
      "source": [
        "# Implemente aqui o algoritmo do método de Newton usando a sua função,\n",
        "# tomando uma condição inicial no intervalo (a,b) inicial, use a média do intervalo, e a precisão considera.\n",
        "# Obtenha sempre o número de iterações necessárias à convergência a fim de comparação entre os métodos.\n",
        "\n",
        "def f_linha(x):\n",
        "  return 2*x + np.log(x) + 1\n",
        "\n",
        "#condição inicial\n",
        "x0 = (a+b)/2\n",
        "x_k = x0\n",
        "\n",
        "it_max_newton = 100\n",
        "\n",
        "for k in range(1, it_max_newton+1):\n",
        "  print(x_k)\n",
        "  x_k = x_k - f(x_k)/f_linha(x_k)\n",
        "\n",
        "#critério de parada\n",
        "  if abs(f(x_k))< e:\n",
        "    break\n",
        "\n",
        "print('A solução encontrada foi', x_k)\n",
        "print('O número de iterações foi', k)"
      ],
      "metadata": {
        "id": "9d-au9qaVMQ4",
        "colab": {
          "base_uri": "https://localhost:8080/"
        },
        "outputId": "bf90d7c9-782f-4b42-cb13-a49914bc8be3"
      },
      "execution_count": null,
      "outputs": [
        {
          "output_type": "stream",
          "name": "stdout",
          "text": [
            "0.6\n",
            "0.5683249837949275\n",
            "A solução encontrada foi 0.5671449611868847\n",
            "O número de iterações foi 2\n"
          ]
        }
      ]
    },
    {
      "cell_type": "markdown",
      "source": [
        "# Método da Secante\n",
        "\n",
        "O método da secante é uma discretização do método de Newton que substitui a derivada por uma aproximação baseada na reta secante entre dois pontos iterativos anteriores. As iterações são calculadas por:  \n",
        "$$\n",
        "x_{k+1} = \\dfrac{x_{k-1} \\cdot f(x_k) - x_k \\cdot f(x_{k-1})}{f(x_k) - f(x_{k-1})}\n",
        "$$  \n",
        "Assim, são necessárias **duas condições iniciais** \\(x_0\\) e \\(x_1\\) no intervalo \\(a,b)\\. O método converge se as estimativas iniciais estiverem suficientemente próximas da raiz e \\(f(x)\\) for suave no intervalo.\n",
        "\n",
        "---"
      ],
      "metadata": {
        "id": "85Ab1C2wWgMo"
      }
    },
    {
      "cell_type": "code",
      "source": [
        "# Implemente aqui o algoritmo do método da secante usando a sua função,\n",
        "# tomando duas condições iniciais no intervalo (a,b) inicial, e a precisão considera.\n",
        "# Obtenha sempre o número de iterações necessárias à convergência a fim de comparação entre os métodos.\n",
        "\n",
        "#condições iniciais\n",
        "x0 = 0.4\n",
        "x1 = 0.8\n",
        "x2 = (x0+x1)/2\n",
        "\n",
        "it_max_secante = 100\n",
        "\n",
        "for k in range(1, it_max_secante+1):\n",
        "  print(x2)\n",
        "  x2 = (x0 * f(x1) - x1 * f(x0))/ (f(x1) - f(x0))\n",
        "  x0 = x1\n",
        "  x1 = x2\n",
        "\n",
        "#critério de parada\n",
        "  if abs(f(x2))< e:\n",
        "    break\n",
        "\n",
        "print('A solução encontrada foi', x2)\n",
        "print('O número de iterações foi', k)"
      ],
      "metadata": {
        "id": "c537NcuqYIz5",
        "colab": {
          "base_uri": "https://localhost:8080/"
        },
        "outputId": "bd5aa3d1-cf35-4b0e-f4c4-fbf70958eed8"
      },
      "execution_count": null,
      "outputs": [
        {
          "output_type": "stream",
          "name": "stdout",
          "text": [
            "0.6000000000000001\n",
            "0.5236621820055182\n",
            "0.5575668438864406\n",
            "0.5676858620531668\n",
            "A solução encontrada foi 0.5671369674547845\n",
            "O número de iterações foi 4\n"
          ]
        }
      ]
    },
    {
      "cell_type": "markdown",
      "source": [
        "# Resultados e Discussões  \n",
        "\n",
        "Dentre os resultados obtidos, verificou-se que o método **de Newton** apresentou melhor eficiência com base no número de iterações (apenas 2 iterações), seguido pelo método **da Secante** (4 iterações). O método **do ponto fixo** (φ(x) = e⁻ˣ) convergiu em 12 iterações, enquanto o método **da posição falsa** e **da bissecção** foram os mais lentos, com 9 e 14 iterações, respectivamente.  \n",
        "\n",
        "### **Análise Comparativa**  \n",
        "| Método           | Raiz Aproximada      | Iterações | Eficiência Relativa |  \n",
        "|------------------|----------------------|-----------|---------------------|  \n",
        "| Bissecção        | 0.567138671875       | 14        | Mais lento          |  \n",
        "| Posição Falsa    | 0.567112914248785    | 9         | Intermediário       |  \n",
        "| Ponto Fixo       | 0.5671792949184874   | 12        | Lento*              |  \n",
        "| Newton           | 0.5671449611868847   | 2         | Mais rápido         |  \n",
        "| Secante          | 0.5671369674547845   | 4         | Rápido              |  \n",
        "\n",
        "\\*A convergência do método do ponto fixo depende criticamente da escolha da função φ(x).  \n",
        "\n",
        "---\n",
        "\n",
        "### **Dificuldades Encontradas**  \n",
        "1. **Método do Ponto Fixo:**  \n",
        "   - A convergência só foi garantida com a função φ(x) = e⁻ˣ e φ₃(x) = √(-x ln x). A outra função proposta (φ₁(x) = -ln(x)) **não convergiu** resultando no erro 'nan' que seria not a number por executar divesas operações com números inexistentes, exigindo análise prévia das condições de convergência.  \n",
        "   - A escolha inadequada de φ(x) pode levar a divergência ou a um número elevado de iterações.  \n",
        "\n",
        "2. **Método de Newton:**  \n",
        "   - Requer o cálculo manual da derivada \\( f'(x) \\), o que pode ser complexo para funções não lineares mais elaboradas.  \n",
        "   - Sensibilidade à escolha de \\( x_0 \\): valores próximos ao ponto crítico \\( c \\approx 0.406 \\) podem causar instabilidade.  \n",
        "\n",
        "3. **Método da Secante:**  \n",
        "   - Necessidade de duas estimativas iniciais próximas da raiz (\\( x_0 = 0.4 \\) e \\( x_1 = 0.8 \\) foram usadas).  \n",
        "   - Convergência não garantida se as estimativas iniciais forem mal escolhidas.  \n",
        "\n",
        "---\n",
        "\n",
        "### **Conclusão**  \n",
        "- **Método de Newton** é o mais eficiente para funções com derivadas conhecidas e bem comportadas.  \n",
        "- **Método da Secante** é uma boa alternativa quando a derivada é difícil de calcular.  \n",
        "- **Método do Ponto Fixo** exige cuidado na escolha da função de iteração, pode ser que dependendo da função que você esteja utilizando não tenha tanta eficiência este método.  \n",
        "- **Bissecção** e **Posição Falsa** são confiáveis, mas lentos, ideais para implementações simples onde a velocidade não é crítica.  \n",
        "\n",
        "**Observação:** Para problemas com derivadas acessíveis, priorize o método de Newton. Caso contrário, use a secante ou a posição falsa. E também de acordo com os valores encontrados a partir da Quinta casa decimal após a vírgula a uma pequena diferença de valores encontrados.  "
      ],
      "metadata": {
        "id": "1h3HhzAou81K"
      }
    }
  ]
}